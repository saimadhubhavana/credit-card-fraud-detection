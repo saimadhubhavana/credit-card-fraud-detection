{
 "cells": [
  {
   "cell_type": "code",
   "execution_count": 1,
   "id": "46e11442",
   "metadata": {},
   "outputs": [],
   "source": [
    "import numpy as np\n",
    "import pandas as pd\n",
    "import matplotlib.pyplot as plt\n",
    "import seaborn as sns\n",
    "sns.set()\n",
    "%matplotlib inline"
   ]
  },
  {
   "cell_type": "code",
   "execution_count": 2,
   "id": "adb97c40",
   "metadata": {},
   "outputs": [
    {
     "name": "stdout",
     "output_type": "stream",
     "text": [
      "(284807, 31)\n"
     ]
    },
    {
     "data": {
      "text/html": [
       "<div>\n",
       "<style scoped>\n",
       "    .dataframe tbody tr th:only-of-type {\n",
       "        vertical-align: middle;\n",
       "    }\n",
       "\n",
       "    .dataframe tbody tr th {\n",
       "        vertical-align: top;\n",
       "    }\n",
       "\n",
       "    .dataframe thead th {\n",
       "        text-align: right;\n",
       "    }\n",
       "</style>\n",
       "<table border=\"1\" class=\"dataframe\">\n",
       "  <thead>\n",
       "    <tr style=\"text-align: right;\">\n",
       "      <th></th>\n",
       "      <th>Time</th>\n",
       "      <th>V1</th>\n",
       "      <th>V2</th>\n",
       "      <th>V3</th>\n",
       "      <th>V4</th>\n",
       "      <th>V5</th>\n",
       "      <th>V6</th>\n",
       "      <th>V7</th>\n",
       "      <th>V8</th>\n",
       "      <th>V9</th>\n",
       "      <th>...</th>\n",
       "      <th>V21</th>\n",
       "      <th>V22</th>\n",
       "      <th>V23</th>\n",
       "      <th>V24</th>\n",
       "      <th>V25</th>\n",
       "      <th>V26</th>\n",
       "      <th>V27</th>\n",
       "      <th>V28</th>\n",
       "      <th>Amount</th>\n",
       "      <th>Class</th>\n",
       "    </tr>\n",
       "  </thead>\n",
       "  <tbody>\n",
       "    <tr>\n",
       "      <th>0</th>\n",
       "      <td>0.0</td>\n",
       "      <td>-1.359807</td>\n",
       "      <td>-0.072781</td>\n",
       "      <td>2.536347</td>\n",
       "      <td>1.378155</td>\n",
       "      <td>-0.338321</td>\n",
       "      <td>0.462388</td>\n",
       "      <td>0.239599</td>\n",
       "      <td>0.098698</td>\n",
       "      <td>0.363787</td>\n",
       "      <td>...</td>\n",
       "      <td>-0.018307</td>\n",
       "      <td>0.277838</td>\n",
       "      <td>-0.110474</td>\n",
       "      <td>0.066928</td>\n",
       "      <td>0.128539</td>\n",
       "      <td>-0.189115</td>\n",
       "      <td>0.133558</td>\n",
       "      <td>-0.021053</td>\n",
       "      <td>149.62</td>\n",
       "      <td>0</td>\n",
       "    </tr>\n",
       "    <tr>\n",
       "      <th>1</th>\n",
       "      <td>0.0</td>\n",
       "      <td>1.191857</td>\n",
       "      <td>0.266151</td>\n",
       "      <td>0.166480</td>\n",
       "      <td>0.448154</td>\n",
       "      <td>0.060018</td>\n",
       "      <td>-0.082361</td>\n",
       "      <td>-0.078803</td>\n",
       "      <td>0.085102</td>\n",
       "      <td>-0.255425</td>\n",
       "      <td>...</td>\n",
       "      <td>-0.225775</td>\n",
       "      <td>-0.638672</td>\n",
       "      <td>0.101288</td>\n",
       "      <td>-0.339846</td>\n",
       "      <td>0.167170</td>\n",
       "      <td>0.125895</td>\n",
       "      <td>-0.008983</td>\n",
       "      <td>0.014724</td>\n",
       "      <td>2.69</td>\n",
       "      <td>0</td>\n",
       "    </tr>\n",
       "    <tr>\n",
       "      <th>2</th>\n",
       "      <td>1.0</td>\n",
       "      <td>-1.358354</td>\n",
       "      <td>-1.340163</td>\n",
       "      <td>1.773209</td>\n",
       "      <td>0.379780</td>\n",
       "      <td>-0.503198</td>\n",
       "      <td>1.800499</td>\n",
       "      <td>0.791461</td>\n",
       "      <td>0.247676</td>\n",
       "      <td>-1.514654</td>\n",
       "      <td>...</td>\n",
       "      <td>0.247998</td>\n",
       "      <td>0.771679</td>\n",
       "      <td>0.909412</td>\n",
       "      <td>-0.689281</td>\n",
       "      <td>-0.327642</td>\n",
       "      <td>-0.139097</td>\n",
       "      <td>-0.055353</td>\n",
       "      <td>-0.059752</td>\n",
       "      <td>378.66</td>\n",
       "      <td>0</td>\n",
       "    </tr>\n",
       "    <tr>\n",
       "      <th>3</th>\n",
       "      <td>1.0</td>\n",
       "      <td>-0.966272</td>\n",
       "      <td>-0.185226</td>\n",
       "      <td>1.792993</td>\n",
       "      <td>-0.863291</td>\n",
       "      <td>-0.010309</td>\n",
       "      <td>1.247203</td>\n",
       "      <td>0.237609</td>\n",
       "      <td>0.377436</td>\n",
       "      <td>-1.387024</td>\n",
       "      <td>...</td>\n",
       "      <td>-0.108300</td>\n",
       "      <td>0.005274</td>\n",
       "      <td>-0.190321</td>\n",
       "      <td>-1.175575</td>\n",
       "      <td>0.647376</td>\n",
       "      <td>-0.221929</td>\n",
       "      <td>0.062723</td>\n",
       "      <td>0.061458</td>\n",
       "      <td>123.50</td>\n",
       "      <td>0</td>\n",
       "    </tr>\n",
       "    <tr>\n",
       "      <th>4</th>\n",
       "      <td>2.0</td>\n",
       "      <td>-1.158233</td>\n",
       "      <td>0.877737</td>\n",
       "      <td>1.548718</td>\n",
       "      <td>0.403034</td>\n",
       "      <td>-0.407193</td>\n",
       "      <td>0.095921</td>\n",
       "      <td>0.592941</td>\n",
       "      <td>-0.270533</td>\n",
       "      <td>0.817739</td>\n",
       "      <td>...</td>\n",
       "      <td>-0.009431</td>\n",
       "      <td>0.798278</td>\n",
       "      <td>-0.137458</td>\n",
       "      <td>0.141267</td>\n",
       "      <td>-0.206010</td>\n",
       "      <td>0.502292</td>\n",
       "      <td>0.219422</td>\n",
       "      <td>0.215153</td>\n",
       "      <td>69.99</td>\n",
       "      <td>0</td>\n",
       "    </tr>\n",
       "  </tbody>\n",
       "</table>\n",
       "<p>5 rows × 31 columns</p>\n",
       "</div>"
      ],
      "text/plain": [
       "   Time        V1        V2        V3        V4        V5        V6        V7  \\\n",
       "0   0.0 -1.359807 -0.072781  2.536347  1.378155 -0.338321  0.462388  0.239599   \n",
       "1   0.0  1.191857  0.266151  0.166480  0.448154  0.060018 -0.082361 -0.078803   \n",
       "2   1.0 -1.358354 -1.340163  1.773209  0.379780 -0.503198  1.800499  0.791461   \n",
       "3   1.0 -0.966272 -0.185226  1.792993 -0.863291 -0.010309  1.247203  0.237609   \n",
       "4   2.0 -1.158233  0.877737  1.548718  0.403034 -0.407193  0.095921  0.592941   \n",
       "\n",
       "         V8        V9  ...       V21       V22       V23       V24       V25  \\\n",
       "0  0.098698  0.363787  ... -0.018307  0.277838 -0.110474  0.066928  0.128539   \n",
       "1  0.085102 -0.255425  ... -0.225775 -0.638672  0.101288 -0.339846  0.167170   \n",
       "2  0.247676 -1.514654  ...  0.247998  0.771679  0.909412 -0.689281 -0.327642   \n",
       "3  0.377436 -1.387024  ... -0.108300  0.005274 -0.190321 -1.175575  0.647376   \n",
       "4 -0.270533  0.817739  ... -0.009431  0.798278 -0.137458  0.141267 -0.206010   \n",
       "\n",
       "        V26       V27       V28  Amount  Class  \n",
       "0 -0.189115  0.133558 -0.021053  149.62      0  \n",
       "1  0.125895 -0.008983  0.014724    2.69      0  \n",
       "2 -0.139097 -0.055353 -0.059752  378.66      0  \n",
       "3 -0.221929  0.062723  0.061458  123.50      0  \n",
       "4  0.502292  0.219422  0.215153   69.99      0  \n",
       "\n",
       "[5 rows x 31 columns]"
      ]
     },
     "execution_count": 2,
     "metadata": {},
     "output_type": "execute_result"
    }
   ],
   "source": [
    "df = pd.read_csv('creditcard.csv')\n",
    "print(df.shape)\n",
    "df.head()"
   ]
  },
  {
   "cell_type": "code",
   "execution_count": 3,
   "id": "c23d46f4",
   "metadata": {},
   "outputs": [
    {
     "name": "stdout",
     "output_type": "stream",
     "text": [
      "<class 'pandas.core.frame.DataFrame'>\n",
      "RangeIndex: 284807 entries, 0 to 284806\n",
      "Data columns (total 31 columns):\n",
      " #   Column  Non-Null Count   Dtype  \n",
      "---  ------  --------------   -----  \n",
      " 0   Time    284807 non-null  float64\n",
      " 1   V1      284807 non-null  float64\n",
      " 2   V2      284807 non-null  float64\n",
      " 3   V3      284807 non-null  float64\n",
      " 4   V4      284807 non-null  float64\n",
      " 5   V5      284807 non-null  float64\n",
      " 6   V6      284807 non-null  float64\n",
      " 7   V7      284807 non-null  float64\n",
      " 8   V8      284807 non-null  float64\n",
      " 9   V9      284807 non-null  float64\n",
      " 10  V10     284807 non-null  float64\n",
      " 11  V11     284807 non-null  float64\n",
      " 12  V12     284807 non-null  float64\n",
      " 13  V13     284807 non-null  float64\n",
      " 14  V14     284807 non-null  float64\n",
      " 15  V15     284807 non-null  float64\n",
      " 16  V16     284807 non-null  float64\n",
      " 17  V17     284807 non-null  float64\n",
      " 18  V18     284807 non-null  float64\n",
      " 19  V19     284807 non-null  float64\n",
      " 20  V20     284807 non-null  float64\n",
      " 21  V21     284807 non-null  float64\n",
      " 22  V22     284807 non-null  float64\n",
      " 23  V23     284807 non-null  float64\n",
      " 24  V24     284807 non-null  float64\n",
      " 25  V25     284807 non-null  float64\n",
      " 26  V26     284807 non-null  float64\n",
      " 27  V27     284807 non-null  float64\n",
      " 28  V28     284807 non-null  float64\n",
      " 29  Amount  284807 non-null  float64\n",
      " 30  Class   284807 non-null  int64  \n",
      "dtypes: float64(30), int64(1)\n",
      "memory usage: 67.4 MB\n"
     ]
    }
   ],
   "source": [
    "#get information about dataset\n",
    "df.info()"
   ]
  },
  {
   "cell_type": "code",
   "execution_count": 4,
   "id": "1c4ef2b0",
   "metadata": {},
   "outputs": [
    {
     "name": "stdout",
     "output_type": "stream",
     "text": [
      "Not Fraud    284315\n",
      "Fraud           492\n",
      "Name: Class, dtype: int64\n"
     ]
    }
   ],
   "source": [
    "#predict the initialized record to classify the data as fraud or not\n",
    "class_names = {0:'Not Fraud', 1:'Fraud'}\n",
    "print(df.Class.value_counts().rename(index = class_names))"
   ]
  },
  {
   "cell_type": "code",
   "execution_count": 5,
   "id": "5f5826ae",
   "metadata": {},
   "outputs": [],
   "source": [
    "import sklearn\n",
    "from sklearn.model_selection import train_test_split"
   ]
  },
  {
   "cell_type": "code",
   "execution_count": 6,
   "id": "8bfc36a1",
   "metadata": {},
   "outputs": [
    {
     "name": "stdout",
     "output_type": "stream",
     "text": [
      "Index(['V1', 'V2', 'V3', 'V4', 'V5', 'V6', 'V7', 'V8', 'V9', 'V10', 'V11',\n",
      "       'V12', 'V13', 'V14', 'V15', 'V16', 'V17', 'V18', 'V19', 'V20', 'V21',\n",
      "       'V22', 'V23', 'V24', 'V25', 'V26', 'V27', 'V28', 'Amount'],\n",
      "      dtype='object')\n",
      "Index(['Class'], dtype='object')\n"
     ]
    }
   ],
   "source": [
    "#Dividing the predicted and actual columns\n",
    "feature_names = df.iloc[:, 1:30].columns\n",
    "target = df.iloc[:1, 30: ].columns\n",
    "print(feature_names)\n",
    "print(target)"
   ]
  },
  {
   "cell_type": "code",
   "execution_count": 7,
   "id": "432116a5",
   "metadata": {},
   "outputs": [],
   "source": [
    "#dividing the data into different the data frames accordingly\n",
    "data_features = df[feature_names]\n",
    "data_target = df[target]"
   ]
  },
  {
   "cell_type": "code",
   "execution_count": 8,
   "id": "7027075f",
   "metadata": {},
   "outputs": [
    {
     "name": "stdout",
     "output_type": "stream",
     "text": [
      "Length of X_train is: 199364\n",
      "Length of X_test is: 85443\n",
      "Length of y_train is: 199364\n",
      "Length of y_test is: 85443\n"
     ]
    }
   ],
   "source": [
    "#splitting the data into training and testing data as 70:30\n",
    "X_train, X_test, y_train, y_test = train_test_split(data_features, data_target, train_size=0.70, test_size=0.30, random_state=1)\n",
    "print(\"Length of X_train is: {X_train}\".format(X_train = len(X_train)))\n",
    "print(\"Length of X_test is: {X_test}\".format(X_test = len(X_test)))\n",
    "print(\"Length of y_train is: {y_train}\".format(y_train = len(y_train)))\n",
    "print(\"Length of y_test is: {y_test}\".format(y_test = len(y_test)))"
   ]
  },
  {
   "cell_type": "code",
   "execution_count": 9,
   "id": "87206825",
   "metadata": {},
   "outputs": [],
   "source": [
    "#Logistic Regression Model\n",
    "from sklearn.linear_model import LogisticRegression\n",
    "from sklearn.metrics import confusion_matrix"
   ]
  },
  {
   "cell_type": "code",
   "execution_count": 10,
   "id": "7671472f",
   "metadata": {},
   "outputs": [
    {
     "name": "stderr",
     "output_type": "stream",
     "text": [
      "C:\\Users\\bhava\\anaconda3\\lib\\site-packages\\sklearn\\linear_model\\_logistic.py:763: ConvergenceWarning: lbfgs failed to converge (status=1):\n",
      "STOP: TOTAL NO. of ITERATIONS REACHED LIMIT.\n",
      "\n",
      "Increase the number of iterations (max_iter) or scale the data as shown in:\n",
      "    https://scikit-learn.org/stable/modules/preprocessing.html\n",
      "Please also refer to the documentation for alternative solver options:\n",
      "    https://scikit-learn.org/stable/modules/linear_model.html#logistic-regression\n",
      "  n_iter_i = _check_optimize_result(\n"
     ]
    },
    {
     "data": {
      "text/plain": [
       "LogisticRegression()"
      ]
     },
     "execution_count": 10,
     "metadata": {},
     "output_type": "execute_result"
    }
   ],
   "source": [
    "#creating Logistic Regression Model and feeding the data to the model to train itself\n",
    "model1 = LogisticRegression()\n",
    "model1.fit(X_train, y_train.values.ravel())"
   ]
  },
  {
   "cell_type": "code",
   "execution_count": 11,
   "id": "3107481a",
   "metadata": {},
   "outputs": [],
   "source": [
    "#generating and storing the predicted values\n",
    "pred1 = model1.predict(X_test)"
   ]
  },
  {
   "cell_type": "code",
   "execution_count": 12,
   "id": "fff11fce",
   "metadata": {},
   "outputs": [
    {
     "data": {
      "image/png": "[encoded data removed]",
      "text/plain": [
       "<Figure size 432x288 with 1 Axes>"
      ]
     },
     "metadata": {
      "needs_background": "light"
     },
     "output_type": "display_data"
    }
   ],
   "source": [
    "#plotting the confusion matrix to evaluate the models performance\n",
    "class_names = ['not_fraud', 'fraud']\n",
    "matrix = confusion_matrix(y_test, pred1)\n",
    "# Create pandas dataframe\n",
    "dataframe = pd.DataFrame(matrix, index=class_names, columns=class_names)\n",
    "# Create heatmap\n",
    "sns.heatmap(dataframe, annot=True, cbar=None, cmap=\"Blues\", fmt = 'g')\n",
    "plt.title(\"Confusion Matrix\"), plt.tight_layout()\n",
    "plt.ylabel(\"True Class\"), plt.xlabel(\"Predicted Class\")\n",
    "plt.show()"
   ]
  },
  {
   "cell_type": "code",
   "execution_count": 13,
   "id": "5f2431b5",
   "metadata": {},
   "outputs": [
    {
     "name": "stdout",
     "output_type": "stream",
     "text": [
      "Sensitivity/Recall for Logistic Regression Model 1 : 0.56\n",
      "F1 Score for Logistic Regression Model 1 : 0.68\n",
      "Accuracy Score for Logistic Regression Model 1 :0.9991573329588147\n"
     ]
    }
   ],
   "source": [
    "#printing accuracy, F1 score and sensitivity/recall of the model\n",
    "from sklearn.metrics import f1_score, recall_score , accuracy_score\n",
    "f1_score = round(f1_score(y_test, pred1), 2)\n",
    "recall_score = round(recall_score(y_test, pred1), 2)\n",
    "print(\"Sensitivity/Recall for Logistic Regression Model 1 : {recall_score}\".format(recall_score = recall_score))\n",
    "print(\"F1 Score for Logistic Regression Model 1 : {f1_score}\".format(f1_score = f1_score))\n",
    "print(\"Accuracy Score for Logistic Regression Model 1 :\"+ str(accuracy_score(y_test,pred1)))"
   ]
  },
  {
   "cell_type": "code",
   "execution_count": 14,
   "id": "3d60b855",
   "metadata": {},
   "outputs": [
    {
     "data": {
      "text/plain": [
       "DecisionTreeRegressor()"
      ]
     },
     "execution_count": 14,
     "metadata": {},
     "output_type": "execute_result"
    }
   ],
   "source": [
    "#creating Decision Tree Regressor Model and feeding the data to the model to train itself\n",
    "from sklearn.tree import DecisionTreeRegressor\n",
    "model2=DecisionTreeRegressor()\n",
    "model2.fit(X_train, y_train.values.ravel())"
   ]
  },
  {
   "cell_type": "code",
   "execution_count": 15,
   "id": "e3e0bc75",
   "metadata": {},
   "outputs": [],
   "source": [
    "#generating and storing the predicted values\n",
    "pred2 = model2.predict(X_test)"
   ]
  },
  {
   "cell_type": "code",
   "execution_count": 16,
   "id": "aa1fd7d4",
   "metadata": {},
   "outputs": [
    {
     "data": {
      "image/png": "[encoded data removed]",
      "text/plain": [
       "<Figure size 432x288 with 1 Axes>"
      ]
     },
     "metadata": {
      "needs_background": "light"
     },
     "output_type": "display_data"
    }
   ],
   "source": [
    "#plotting the confusion matrix to evaluate the models performance\n",
    "class_names = ['not_fraud', 'fraud']\n",
    "matrix = confusion_matrix(y_test, pred2)\n",
    "# Create pandas dataframe\n",
    "dataframe = pd.DataFrame(matrix, index=class_names, columns=class_names)\n",
    "# Create heatmap\n",
    "sns.heatmap(dataframe, annot=True, cbar=None, cmap=\"Blues\", fmt = 'g')\n",
    "plt.title(\"Confusion Matrix\"), plt.tight_layout()\n",
    "plt.ylabel(\"True Class\"), plt.xlabel(\"Predicted Class\")\n",
    "plt.show()"
   ]
  },
  {
   "cell_type": "code",
   "execution_count": 17,
   "id": "b4cb487f",
   "metadata": {},
   "outputs": [
    {
     "name": "stdout",
     "output_type": "stream",
     "text": [
      "Sensitivity/Recall for Decision Tree Regression Model 2 : 0.73\n",
      "F1 Score for Decision Tree Regression Model 2 : 0.73\n",
      "Accuracy Score for Decision Tree Regression Model 2 :0.9991573329588147\n"
     ]
    }
   ],
   "source": [
    "#printing accuracy, F1 score and sensitivity/recall of the model\n",
    "from sklearn.metrics import f1_score, recall_score , accuracy_score\n",
    "f1_score = round(f1_score(y_test, pred2), 2)\n",
    "recall_score = round(recall_score(y_test, pred2), 2)\n",
    "print(\"Sensitivity/Recall for Decision Tree Regression Model 2 : {recall_score}\".format(recall_score = recall_score))\n",
    "print(\"F1 Score for Decision Tree Regression Model 2 : {f1_score}\".format(f1_score = f1_score))\n",
    "print(\"Accuracy Score for Decision Tree Regression Model 2 :\"+ str(accuracy_score(y_test,pred2)))"
   ]
  },
  {
   "cell_type": "code",
   "execution_count": 18,
   "id": "197c15b0",
   "metadata": {},
   "outputs": [],
   "source": [
    "#ANN Model\n",
    "# Libraries that we will need to create ANN\n",
    "from keras.models import Sequential\n",
    "from keras.layers import Dense"
   ]
  },
  {
   "cell_type": "code",
   "execution_count": 19,
   "id": "4c7f56bf",
   "metadata": {},
   "outputs": [],
   "source": [
    "# building our Neural Network\n",
    "model3 = Sequential()\n",
    "model3.add(Dense(40 , input_dim = 29 , activation = 'relu'))\n",
    "model3.add(Dense(30 , input_dim = 40 , activation = 'relu'))\n",
    "model3.add(Dense(20 , input_dim = 30 , activation = 'relu'))\n",
    "model3.add(Dense(10 , input_dim = 20 , activation = 'relu'))\n",
    "model3.add(Dense(6 , input_dim = 10 , activation = 'relu'))\n",
    "model3.add(Dense(4 , input_dim = 6 , activation = 'relu'))\n",
    "model3.add(Dense(1, input_dim = 4 , activation = 'sigmoid'))"
   ]
  },
  {
   "cell_type": "code",
   "execution_count": 20,
   "id": "b325db41",
   "metadata": {},
   "outputs": [],
   "source": [
    "# Specifying our loss and optimizer\n",
    "model3.compile(loss = 'binary_crossentropy' , optimizer = 'adam' , metrics = ['accuracy'] )"
   ]
  },
  {
   "cell_type": "code",
   "execution_count": 21,
   "id": "d724875f",
   "metadata": {},
   "outputs": [
    {
     "name": "stdout",
     "output_type": "stream",
     "text": [
      "Epoch 1/200\n",
      "399/399 [==============================] - 3s 5ms/step - loss: 0.0384 - accuracy: 0.9982\n",
      "Epoch 2/200\n",
      "399/399 [==============================] - 2s 4ms/step - loss: 0.0062 - accuracy: 0.9982\n",
      "Epoch 3/200\n",
      "399/399 [==============================] - 2s 4ms/step - loss: 0.0051 - accuracy: 0.9982\n",
      "Epoch 4/200\n",
      "399/399 [==============================] - 2s 4ms/step - loss: 0.0044 - accuracy: 0.9982\n",
      "Epoch 5/200\n",
      "399/399 [==============================] - 2s 4ms/step - loss: 0.0042 - accuracy: 0.9982\n",
      "Epoch 6/200\n",
      "399/399 [==============================] - 2s 4ms/step - loss: 0.0045 - accuracy: 0.9985\n",
      "Epoch 7/200\n",
      "399/399 [==============================] - 2s 4ms/step - loss: 0.0039 - accuracy: 0.9993\n",
      "Epoch 8/200\n",
      "399/399 [==============================] - 2s 4ms/step - loss: 0.0038 - accuracy: 0.9994\n",
      "Epoch 9/200\n",
      "399/399 [==============================] - 2s 4ms/step - loss: 0.0035 - accuracy: 0.9994\n",
      "Epoch 10/200\n",
      "399/399 [==============================] - 2s 4ms/step - loss: 0.0034 - accuracy: 0.9994\n",
      "Epoch 11/200\n",
      "399/399 [==============================] - 2s 4ms/step - loss: 0.0037 - accuracy: 0.9994\n",
      "Epoch 12/200\n",
      "399/399 [==============================] - 2s 4ms/step - loss: 0.0032 - accuracy: 0.9994\n",
      "Epoch 13/200\n",
      "399/399 [==============================] - 2s 4ms/step - loss: 0.0032 - accuracy: 0.9994\n",
      "Epoch 14/200\n",
      "399/399 [==============================] - 2s 4ms/step - loss: 0.0031 - accuracy: 0.9994\n",
      "Epoch 15/200\n",
      "399/399 [==============================] - 2s 5ms/step - loss: 0.0031 - accuracy: 0.9994\n",
      "Epoch 16/200\n",
      "399/399 [==============================] - 2s 4ms/step - loss: 0.0029 - accuracy: 0.9995\n",
      "Epoch 17/200\n",
      "399/399 [==============================] - 2s 5ms/step - loss: 0.0027 - accuracy: 0.9994\n",
      "Epoch 18/200\n",
      "399/399 [==============================] - 2s 5ms/step - loss: 0.0028 - accuracy: 0.9994\n",
      "Epoch 19/200\n",
      "399/399 [==============================] - 2s 4ms/step - loss: 0.0028 - accuracy: 0.9995\n",
      "Epoch 20/200\n",
      "399/399 [==============================] - 2s 4ms/step - loss: 0.0026 - accuracy: 0.9995\n",
      "Epoch 21/200\n",
      "399/399 [==============================] - 2s 4ms/step - loss: 0.0025 - accuracy: 0.9995\n",
      "Epoch 22/200\n",
      "399/399 [==============================] - 2s 4ms/step - loss: 0.0025 - accuracy: 0.9995\n",
      "Epoch 23/200\n",
      "399/399 [==============================] - 2s 4ms/step - loss: 0.0024 - accuracy: 0.9995\n",
      "Epoch 24/200\n",
      "399/399 [==============================] - 2s 4ms/step - loss: 0.0025 - accuracy: 0.9995\n",
      "Epoch 25/200\n",
      "399/399 [==============================] - 2s 4ms/step - loss: 0.0022 - accuracy: 0.9995\n",
      "Epoch 26/200\n",
      "399/399 [==============================] - 2s 4ms/step - loss: 0.0022 - accuracy: 0.9995\n",
      "Epoch 27/200\n",
      "399/399 [==============================] - 2s 4ms/step - loss: 0.0022 - accuracy: 0.9995\n",
      "Epoch 28/200\n",
      "399/399 [==============================] - 2s 4ms/step - loss: 0.0022 - accuracy: 0.9995\n",
      "Epoch 29/200\n",
      "399/399 [==============================] - 2s 5ms/step - loss: 0.0023 - accuracy: 0.9995\n",
      "Epoch 30/200\n",
      "399/399 [==============================] - 2s 4ms/step - loss: 0.0020 - accuracy: 0.9996\n",
      "Epoch 31/200\n",
      "399/399 [==============================] - 2s 4ms/step - loss: 0.0019 - accuracy: 0.9996\n",
      "Epoch 32/200\n",
      "399/399 [==============================] - 2s 4ms/step - loss: 0.0020 - accuracy: 0.9996\n",
      "Epoch 33/200\n",
      "399/399 [==============================] - 2s 4ms/step - loss: 0.0020 - accuracy: 0.9996\n",
      "Epoch 34/200\n",
      "399/399 [==============================] - 2s 4ms/step - loss: 0.0018 - accuracy: 0.9996\n",
      "Epoch 35/200\n",
      "399/399 [==============================] - 2s 4ms/step - loss: 0.0019 - accuracy: 0.9996\n",
      "Epoch 36/200\n",
      "399/399 [==============================] - 2s 4ms/step - loss: 0.0018 - accuracy: 0.9996\n",
      "Epoch 37/200\n",
      "399/399 [==============================] - 2s 4ms/step - loss: 0.0018 - accuracy: 0.9996\n",
      "Epoch 38/200\n",
      "399/399 [==============================] - 2s 4ms/step - loss: 0.0022 - accuracy: 0.9996\n",
      "Epoch 39/200\n",
      "399/399 [==============================] - 2s 4ms/step - loss: 0.0017 - accuracy: 0.9997\n",
      "Epoch 40/200\n",
      "399/399 [==============================] - 2s 5ms/step - loss: 0.0017 - accuracy: 0.9997\n",
      "Epoch 41/200\n",
      "399/399 [==============================] - 2s 5ms/step - loss: 0.0017 - accuracy: 0.9996\n",
      "Epoch 42/200\n",
      "399/399 [==============================] - 2s 4ms/step - loss: 0.0017 - accuracy: 0.9997\n",
      "Epoch 43/200\n",
      "399/399 [==============================] - 2s 4ms/step - loss: 0.0016 - accuracy: 0.9997\n",
      "Epoch 44/200\n",
      "399/399 [==============================] - 2s 4ms/step - loss: 0.0018 - accuracy: 0.9996\n",
      "Epoch 45/200\n",
      "399/399 [==============================] - 2s 4ms/step - loss: 0.0016 - accuracy: 0.9996\n",
      "Epoch 46/200\n",
      "399/399 [==============================] - 2s 4ms/step - loss: 0.0015 - accuracy: 0.9997\n",
      "Epoch 47/200\n",
      "399/399 [==============================] - 2s 4ms/step - loss: 0.0016 - accuracy: 0.9996\n",
      "Epoch 48/200\n",
      "399/399 [==============================] - 2s 4ms/step - loss: 0.0017 - accuracy: 0.9997\n",
      "Epoch 49/200\n",
      "399/399 [==============================] - 2s 4ms/step - loss: 0.0016 - accuracy: 0.9997\n",
      "Epoch 50/200\n",
      "399/399 [==============================] - 2s 4ms/step - loss: 0.0015 - accuracy: 0.9997\n",
      "Epoch 51/200\n",
      "399/399 [==============================] - 2s 4ms/step - loss: 0.0014 - accuracy: 0.9997\n",
      "Epoch 52/200\n",
      "399/399 [==============================] - 2s 4ms/step - loss: 0.0016 - accuracy: 0.9997\n",
      "Epoch 53/200\n",
      "399/399 [==============================] - 2s 5ms/step - loss: 0.0014 - accuracy: 0.9997\n",
      "Epoch 54/200\n",
      "399/399 [==============================] - 2s 5ms/step - loss: 0.0014 - accuracy: 0.9997\n",
      "Epoch 55/200\n",
      "399/399 [==============================] - 2s 5ms/step - loss: 0.0018 - accuracy: 0.9996\n",
      "Epoch 56/200\n",
      "399/399 [==============================] - 2s 5ms/step - loss: 0.0015 - accuracy: 0.9997\n",
      "Epoch 57/200\n",
      "399/399 [==============================] - 2s 5ms/step - loss: 0.0013 - accuracy: 0.9997\n",
      "Epoch 58/200\n",
      "399/399 [==============================] - 2s 4ms/step - loss: 0.0014 - accuracy: 0.9997\n",
      "Epoch 59/200\n",
      "399/399 [==============================] - 2s 5ms/step - loss: 0.0014 - accuracy: 0.9997\n",
      "Epoch 60/200\n",
      "399/399 [==============================] - 2s 5ms/step - loss: 0.0015 - accuracy: 0.9997\n",
      "Epoch 61/200\n",
      "399/399 [==============================] - 2s 4ms/step - loss: 0.0015 - accuracy: 0.9996\n",
      "Epoch 62/200\n",
      "399/399 [==============================] - 2s 4ms/step - loss: 0.0014 - accuracy: 0.9997\n",
      "Epoch 63/200\n",
      "399/399 [==============================] - 2s 5ms/step - loss: 0.0015 - accuracy: 0.9997\n",
      "Epoch 64/200\n",
      "399/399 [==============================] - 2s 5ms/step - loss: 0.0014 - accuracy: 0.9997\n",
      "Epoch 65/200\n",
      "399/399 [==============================] - 2s 5ms/step - loss: 0.0014 - accuracy: 0.9997\n",
      "Epoch 66/200\n",
      "399/399 [==============================] - 2s 5ms/step - loss: 0.0013 - accuracy: 0.9997\n",
      "Epoch 67/200\n",
      "399/399 [==============================] - 2s 5ms/step - loss: 0.0013 - accuracy: 0.9997\n",
      "Epoch 68/200\n",
      "399/399 [==============================] - 2s 5ms/step - loss: 0.0016 - accuracy: 0.9997\n",
      "Epoch 69/200\n",
      "399/399 [==============================] - 2s 4ms/step - loss: 0.0016 - accuracy: 0.9996\n",
      "Epoch 70/200\n",
      "399/399 [==============================] - 2s 4ms/step - loss: 0.0015 - accuracy: 0.9996\n",
      "Epoch 71/200\n",
      "399/399 [==============================] - 2s 4ms/step - loss: 0.0013 - accuracy: 0.9997\n",
      "Epoch 72/200\n",
      "399/399 [==============================] - 2s 4ms/step - loss: 0.0013 - accuracy: 0.9997\n",
      "Epoch 73/200\n",
      "399/399 [==============================] - 2s 4ms/step - loss: 0.0013 - accuracy: 0.9997\n",
      "Epoch 74/200\n",
      "399/399 [==============================] - 2s 4ms/step - loss: 0.0015 - accuracy: 0.9997\n",
      "Epoch 75/200\n",
      "399/399 [==============================] - 2s 4ms/step - loss: 0.0015 - accuracy: 0.9996\n",
      "Epoch 76/200\n",
      "399/399 [==============================] - 2s 4ms/step - loss: 0.0013 - accuracy: 0.9997\n",
      "Epoch 77/200\n",
      "399/399 [==============================] - 2s 5ms/step - loss: 0.0013 - accuracy: 0.9997\n",
      "Epoch 78/200\n",
      "399/399 [==============================] - 2s 5ms/step - loss: 0.0013 - accuracy: 0.9997\n",
      "Epoch 79/200\n",
      "399/399 [==============================] - 2s 4ms/step - loss: 0.0013 - accuracy: 0.9997\n",
      "Epoch 80/200\n",
      "399/399 [==============================] - 2s 4ms/step - loss: 0.0013 - accuracy: 0.9997\n",
      "Epoch 81/200\n"
     ]
    },
    {
     "name": "stdout",
     "output_type": "stream",
     "text": [
      "399/399 [==============================] - 2s 5ms/step - loss: 0.0015 - accuracy: 0.9996\n",
      "Epoch 82/200\n",
      "399/399 [==============================] - 2s 4ms/step - loss: 0.0014 - accuracy: 0.9997\n",
      "Epoch 83/200\n",
      "399/399 [==============================] - 2s 4ms/step - loss: 0.0014 - accuracy: 0.9997\n",
      "Epoch 84/200\n",
      "399/399 [==============================] - 2s 5ms/step - loss: 0.0013 - accuracy: 0.9997\n",
      "Epoch 85/200\n",
      "399/399 [==============================] - 2s 5ms/step - loss: 0.0013 - accuracy: 0.9997\n",
      "Epoch 86/200\n",
      "399/399 [==============================] - 2s 4ms/step - loss: 0.0014 - accuracy: 0.9997\n",
      "Epoch 87/200\n",
      "399/399 [==============================] - 2s 4ms/step - loss: 0.0012 - accuracy: 0.9997\n",
      "Epoch 88/200\n",
      "399/399 [==============================] - 2s 4ms/step - loss: 0.0012 - accuracy: 0.9997\n",
      "Epoch 89/200\n",
      "399/399 [==============================] - 2s 4ms/step - loss: 0.0014 - accuracy: 0.9997\n",
      "Epoch 90/200\n",
      "399/399 [==============================] - 2s 5ms/step - loss: 0.0012 - accuracy: 0.9997\n",
      "Epoch 91/200\n",
      "399/399 [==============================] - 2s 4ms/step - loss: 0.0012 - accuracy: 0.9997\n",
      "Epoch 92/200\n",
      "399/399 [==============================] - 2s 5ms/step - loss: 0.0012 - accuracy: 0.9997\n",
      "Epoch 93/200\n",
      "399/399 [==============================] - 2s 4ms/step - loss: 0.0013 - accuracy: 0.9997\n",
      "Epoch 94/200\n",
      "399/399 [==============================] - 2s 4ms/step - loss: 0.0016 - accuracy: 0.9997\n",
      "Epoch 95/200\n",
      "399/399 [==============================] - 2s 4ms/step - loss: 0.0015 - accuracy: 0.9996\n",
      "Epoch 96/200\n",
      "399/399 [==============================] - 2s 4ms/step - loss: 0.0014 - accuracy: 0.9997\n",
      "Epoch 97/200\n",
      "399/399 [==============================] - 2s 5ms/step - loss: 0.0013 - accuracy: 0.9997\n",
      "Epoch 98/200\n",
      "399/399 [==============================] - 2s 4ms/step - loss: 0.0012 - accuracy: 0.9997\n",
      "Epoch 99/200\n",
      "399/399 [==============================] - 2s 5ms/step - loss: 0.0012 - accuracy: 0.9997\n",
      "Epoch 100/200\n",
      "399/399 [==============================] - 2s 4ms/step - loss: 0.0012 - accuracy: 0.9997\n",
      "Epoch 101/200\n",
      "399/399 [==============================] - 2s 5ms/step - loss: 0.0012 - accuracy: 0.9997\n",
      "Epoch 102/200\n",
      "399/399 [==============================] - 2s 4ms/step - loss: 0.0013 - accuracy: 0.9997\n",
      "Epoch 103/200\n",
      "399/399 [==============================] - 2s 4ms/step - loss: 0.0014 - accuracy: 0.9997\n",
      "Epoch 104/200\n",
      "399/399 [==============================] - 2s 4ms/step - loss: 0.0014 - accuracy: 0.9997\n",
      "Epoch 105/200\n",
      "399/399 [==============================] - 2s 4ms/step - loss: 0.0013 - accuracy: 0.9997\n",
      "Epoch 106/200\n",
      "399/399 [==============================] - 2s 5ms/step - loss: 0.0013 - accuracy: 0.9997\n",
      "Epoch 107/200\n",
      "399/399 [==============================] - 2s 4ms/step - loss: 0.0016 - accuracy: 0.9997\n",
      "Epoch 108/200\n",
      "399/399 [==============================] - 2s 4ms/step - loss: 0.0013 - accuracy: 0.9997\n",
      "Epoch 109/200\n",
      "399/399 [==============================] - 2s 4ms/step - loss: 0.0012 - accuracy: 0.9997\n",
      "Epoch 110/200\n",
      "399/399 [==============================] - 2s 5ms/step - loss: 0.0013 - accuracy: 0.9997\n",
      "Epoch 111/200\n",
      "399/399 [==============================] - 2s 4ms/step - loss: 0.0013 - accuracy: 0.9997\n",
      "Epoch 112/200\n",
      "399/399 [==============================] - 2s 4ms/step - loss: 0.0013 - accuracy: 0.9997\n",
      "Epoch 113/200\n",
      "399/399 [==============================] - 2s 4ms/step - loss: 0.0011 - accuracy: 0.9997\n",
      "Epoch 114/200\n",
      "399/399 [==============================] - 2s 4ms/step - loss: 0.0012 - accuracy: 0.9997\n",
      "Epoch 115/200\n",
      "399/399 [==============================] - 2s 4ms/step - loss: 0.0012 - accuracy: 0.9997\n",
      "Epoch 116/200\n",
      "399/399 [==============================] - 2s 4ms/step - loss: 0.0012 - accuracy: 0.9997\n",
      "Epoch 117/200\n",
      "399/399 [==============================] - 2s 4ms/step - loss: 0.0013 - accuracy: 0.9997\n",
      "Epoch 118/200\n",
      "399/399 [==============================] - 2s 4ms/step - loss: 0.0014 - accuracy: 0.9997\n",
      "Epoch 119/200\n",
      "399/399 [==============================] - 2s 4ms/step - loss: 0.0013 - accuracy: 0.9997\n",
      "Epoch 120/200\n",
      "399/399 [==============================] - 2s 4ms/step - loss: 0.0014 - accuracy: 0.9997\n",
      "Epoch 121/200\n",
      "399/399 [==============================] - 2s 4ms/step - loss: 0.0014 - accuracy: 0.9997\n",
      "Epoch 122/200\n",
      "399/399 [==============================] - 2s 5ms/step - loss: 0.0012 - accuracy: 0.9997\n",
      "Epoch 123/200\n",
      "399/399 [==============================] - 2s 4ms/step - loss: 0.0011 - accuracy: 0.9997\n",
      "Epoch 124/200\n",
      "399/399 [==============================] - 2s 4ms/step - loss: 0.0012 - accuracy: 0.9997\n",
      "Epoch 125/200\n",
      "399/399 [==============================] - 2s 4ms/step - loss: 0.0012 - accuracy: 0.9997\n",
      "Epoch 126/200\n",
      "399/399 [==============================] - 2s 5ms/step - loss: 0.0012 - accuracy: 0.9997\n",
      "Epoch 127/200\n",
      "399/399 [==============================] - 2s 5ms/step - loss: 0.0012 - accuracy: 0.9997\n",
      "Epoch 128/200\n",
      "399/399 [==============================] - 2s 4ms/step - loss: 0.0011 - accuracy: 0.9997\n",
      "Epoch 129/200\n",
      "399/399 [==============================] - 2s 4ms/step - loss: 0.0015 - accuracy: 0.9997\n",
      "Epoch 130/200\n",
      "399/399 [==============================] - 2s 4ms/step - loss: 0.0013 - accuracy: 0.9997\n",
      "Epoch 131/200\n",
      "399/399 [==============================] - 2s 4ms/step - loss: 0.0014 - accuracy: 0.9997\n",
      "Epoch 132/200\n",
      "399/399 [==============================] - 2s 4ms/step - loss: 0.0013 - accuracy: 0.9997\n",
      "Epoch 133/200\n",
      "399/399 [==============================] - 2s 4ms/step - loss: 0.0014 - accuracy: 0.9997\n",
      "Epoch 134/200\n",
      "399/399 [==============================] - 2s 4ms/step - loss: 0.0012 - accuracy: 0.9997\n",
      "Epoch 135/200\n",
      "399/399 [==============================] - 2s 4ms/step - loss: 0.0012 - accuracy: 0.9997\n",
      "Epoch 136/200\n",
      "399/399 [==============================] - 2s 4ms/step - loss: 0.0011 - accuracy: 0.9997\n",
      "Epoch 137/200\n",
      "399/399 [==============================] - 2s 4ms/step - loss: 0.0012 - accuracy: 0.9997\n",
      "Epoch 138/200\n",
      "399/399 [==============================] - 2s 4ms/step - loss: 0.0015 - accuracy: 0.9997\n",
      "Epoch 139/200\n",
      "399/399 [==============================] - 2s 4ms/step - loss: 0.0013 - accuracy: 0.9997\n",
      "Epoch 140/200\n",
      "399/399 [==============================] - 2s 5ms/step - loss: 0.0012 - accuracy: 0.9997\n",
      "Epoch 141/200\n",
      "399/399 [==============================] - 2s 4ms/step - loss: 0.0012 - accuracy: 0.9997\n",
      "Epoch 142/200\n",
      "399/399 [==============================] - 2s 4ms/step - loss: 0.0011 - accuracy: 0.9998\n",
      "Epoch 143/200\n",
      "399/399 [==============================] - 2s 4ms/step - loss: 0.0011 - accuracy: 0.9997\n",
      "Epoch 144/200\n",
      "399/399 [==============================] - 2s 4ms/step - loss: 0.0014 - accuracy: 0.9996\n",
      "Epoch 145/200\n",
      "399/399 [==============================] - 2s 4ms/step - loss: 0.0012 - accuracy: 0.9997\n",
      "Epoch 146/200\n",
      "399/399 [==============================] - 2s 4ms/step - loss: 0.0012 - accuracy: 0.9997\n",
      "Epoch 147/200\n",
      "399/399 [==============================] - 2s 4ms/step - loss: 0.0010 - accuracy: 0.9998\n",
      "Epoch 148/200\n",
      "399/399 [==============================] - 2s 4ms/step - loss: 0.0012 - accuracy: 0.9998\n",
      "Epoch 149/200\n",
      "399/399 [==============================] - 2s 4ms/step - loss: 0.0011 - accuracy: 0.9998\n",
      "Epoch 150/200\n",
      "399/399 [==============================] - 2s 4ms/step - loss: 0.0012 - accuracy: 0.9997\n",
      "Epoch 151/200\n",
      "399/399 [==============================] - 2s 4ms/step - loss: 0.0012 - accuracy: 0.9997\n",
      "Epoch 152/200\n",
      "399/399 [==============================] - 2s 4ms/step - loss: 0.0011 - accuracy: 0.9997\n",
      "Epoch 153/200\n",
      "399/399 [==============================] - 2s 4ms/step - loss: 0.0012 - accuracy: 0.9997\n",
      "Epoch 154/200\n",
      "399/399 [==============================] - 2s 4ms/step - loss: 0.0013 - accuracy: 0.9997\n",
      "Epoch 155/200\n",
      "399/399 [==============================] - 2s 4ms/step - loss: 0.0013 - accuracy: 0.9997\n",
      "Epoch 156/200\n",
      "399/399 [==============================] - 2s 4ms/step - loss: 0.0012 - accuracy: 0.9997\n",
      "Epoch 157/200\n",
      "399/399 [==============================] - 2s 4ms/step - loss: 0.0011 - accuracy: 0.9998\n",
      "Epoch 158/200\n",
      "399/399 [==============================] - 2s 4ms/step - loss: 0.0011 - accuracy: 0.9997\n",
      "Epoch 159/200\n",
      "399/399 [==============================] - 2s 4ms/step - loss: 0.0011 - accuracy: 0.9997\n",
      "Epoch 160/200\n"
     ]
    },
    {
     "name": "stdout",
     "output_type": "stream",
     "text": [
      "399/399 [==============================] - 2s 5ms/step - loss: 0.0013 - accuracy: 0.9997\n",
      "Epoch 161/200\n",
      "399/399 [==============================] - 2s 4ms/step - loss: 0.0012 - accuracy: 0.9998\n",
      "Epoch 162/200\n",
      "399/399 [==============================] - 2s 5ms/step - loss: 0.0011 - accuracy: 0.9998\n",
      "Epoch 163/200\n",
      "399/399 [==============================] - 2s 4ms/step - loss: 0.0011 - accuracy: 0.9998\n",
      "Epoch 164/200\n",
      "399/399 [==============================] - 2s 5ms/step - loss: 0.0011 - accuracy: 0.9997\n",
      "Epoch 165/200\n",
      "399/399 [==============================] - 2s 5ms/step - loss: 0.0010 - accuracy: 0.9998\n",
      "Epoch 166/200\n",
      "399/399 [==============================] - 2s 5ms/step - loss: 0.0011 - accuracy: 0.9998\n",
      "Epoch 167/200\n",
      "399/399 [==============================] - 2s 5ms/step - loss: 0.0011 - accuracy: 0.9998\n",
      "Epoch 168/200\n",
      "399/399 [==============================] - 2s 4ms/step - loss: 0.0012 - accuracy: 0.9997\n",
      "Epoch 169/200\n",
      "399/399 [==============================] - 2s 4ms/step - loss: 0.0011 - accuracy: 0.9997\n",
      "Epoch 170/200\n",
      "399/399 [==============================] - 2s 4ms/step - loss: 0.0016 - accuracy: 0.9997\n",
      "Epoch 171/200\n",
      "399/399 [==============================] - 2s 5ms/step - loss: 0.0012 - accuracy: 0.9997\n",
      "Epoch 172/200\n",
      "399/399 [==============================] - 2s 5ms/step - loss: 0.0010 - accuracy: 0.9998\n",
      "Epoch 173/200\n",
      "399/399 [==============================] - 2s 4ms/step - loss: 0.0011 - accuracy: 0.9997\n",
      "Epoch 174/200\n",
      "399/399 [==============================] - 2s 4ms/step - loss: 0.0011 - accuracy: 0.9998\n",
      "Epoch 175/200\n",
      "399/399 [==============================] - 2s 4ms/step - loss: 0.0011 - accuracy: 0.9998\n",
      "Epoch 176/200\n",
      "399/399 [==============================] - 2s 5ms/step - loss: 0.0011 - accuracy: 0.9997\n",
      "Epoch 177/200\n",
      "399/399 [==============================] - 2s 4ms/step - loss: 0.0012 - accuracy: 0.9997\n",
      "Epoch 178/200\n",
      "399/399 [==============================] - 2s 4ms/step - loss: 0.0011 - accuracy: 0.9997\n",
      "Epoch 179/200\n",
      "399/399 [==============================] - 2s 4ms/step - loss: 0.0010 - accuracy: 0.9998\n",
      "Epoch 180/200\n",
      "399/399 [==============================] - 2s 5ms/step - loss: 0.0010 - accuracy: 0.9998\n",
      "Epoch 181/200\n",
      "399/399 [==============================] - 2s 4ms/step - loss: 0.0011 - accuracy: 0.9997\n",
      "Epoch 182/200\n",
      "399/399 [==============================] - 2s 4ms/step - loss: 0.0012 - accuracy: 0.9997\n",
      "Epoch 183/200\n",
      "399/399 [==============================] - 2s 5ms/step - loss: 0.0011 - accuracy: 0.9998\n",
      "Epoch 184/200\n",
      "399/399 [==============================] - 2s 4ms/step - loss: 0.0011 - accuracy: 0.9997\n",
      "Epoch 185/200\n",
      "399/399 [==============================] - 2s 4ms/step - loss: 0.0010 - accuracy: 0.9998\n",
      "Epoch 186/200\n",
      "399/399 [==============================] - 2s 4ms/step - loss: 0.0010 - accuracy: 0.9998\n",
      "Epoch 187/200\n",
      "399/399 [==============================] - 2s 5ms/step - loss: 0.0012 - accuracy: 0.9997\n",
      "Epoch 188/200\n",
      "399/399 [==============================] - 2s 4ms/step - loss: 0.0013 - accuracy: 0.9997\n",
      "Epoch 189/200\n",
      "399/399 [==============================] - 2s 4ms/step - loss: 0.0011 - accuracy: 0.9998\n",
      "Epoch 190/200\n",
      "399/399 [==============================] - 2s 4ms/step - loss: 0.0010 - accuracy: 0.9998\n",
      "Epoch 191/200\n",
      "399/399 [==============================] - 2s 4ms/step - loss: 0.0010 - accuracy: 0.9998\n",
      "Epoch 192/200\n",
      "399/399 [==============================] - 2s 4ms/step - loss: 0.0010 - accuracy: 0.9998\n",
      "Epoch 193/200\n",
      "399/399 [==============================] - 2s 4ms/step - loss: 0.0011 - accuracy: 0.9998\n",
      "Epoch 194/200\n",
      "399/399 [==============================] - 2s 4ms/step - loss: 0.0011 - accuracy: 0.9997\n",
      "Epoch 195/200\n",
      "399/399 [==============================] - 2s 4ms/step - loss: 0.0012 - accuracy: 0.9997\n",
      "Epoch 196/200\n",
      "399/399 [==============================] - 2s 4ms/step - loss: 0.0010 - accuracy: 0.9998\n",
      "Epoch 197/200\n",
      "399/399 [==============================] - 2s 4ms/step - loss: 0.0011 - accuracy: 0.9997\n",
      "Epoch 198/200\n",
      "399/399 [==============================] - 2s 4ms/step - loss: 0.0012 - accuracy: 0.9997\n",
      "Epoch 199/200\n",
      "399/399 [==============================] - 2s 4ms/step - loss: 0.0011 - accuracy: 0.9997\n",
      "Epoch 200/200\n",
      "399/399 [==============================] - 2s 4ms/step - loss: 0.0012 - accuracy: 0.9997\n"
     ]
    },
    {
     "data": {
      "text/plain": [
       "<keras.callbacks.History at 0x1b8de5629a0>"
      ]
     },
     "execution_count": 21,
     "metadata": {},
     "output_type": "execute_result"
    }
   ],
   "source": [
    "# Fitting our data to ANN\n",
    "model3.fit( X_train , y_train , epochs = 200 , batch_size = 500 )"
   ]
  },
  {
   "cell_type": "code",
   "execution_count": 22,
   "id": "4205fc6e",
   "metadata": {},
   "outputs": [
    {
     "name": "stdout",
     "output_type": "stream",
     "text": [
      "2671/2671 [==============================] - 7s 2ms/step - loss: 0.0048 - accuracy: 0.9994\n"
     ]
    }
   ],
   "source": [
    "# Getting the results\n",
    "model3.evaluate(X_test,y_test)\n",
    "pred3 = np.argmax(model3.predict(X_test), axis= -1)"
   ]
  },
  {
   "cell_type": "code",
   "execution_count": 23,
   "id": "a9c5f8ba",
   "metadata": {},
   "outputs": [
    {
     "name": "stdout",
     "output_type": "stream",
     "text": [
      "Sensitivity/Recall for ANN Model 3 : 0.0\n",
      "F1 Score for ANN Model 3 : 0.0\n",
      "Accuracy Score for ANN Model 3 :0.9984199992977775\n"
     ]
    }
   ],
   "source": [
    "#printing accuracy, F1 score and sensitivity/recall of the model\n",
    "from sklearn.metrics import f1_score, recall_score , accuracy_score\n",
    "f1_score = round(f1_score(y_test, pred3), 2)\n",
    "recall_score = round(recall_score(y_test, pred3), 2)\n",
    "print(\"Sensitivity/Recall for ANN Model 3 : {recall_score}\".format(recall_score = recall_score))\n",
    "print(\"F1 Score for ANN Model 3 : {f1_score}\".format(f1_score = f1_score))\n",
    "print(\"Accuracy Score for ANN Model 3 :\"+ str(accuracy_score(y_test,pred3)))"
   ]
  },
  {
   "cell_type": "code",
   "execution_count": 24,
   "id": "2798d913",
   "metadata": {},
   "outputs": [],
   "source": [
    "#Gradient Boosting Model\n",
    "import pandas as pd\n",
    "import matplotlib.pyplot as plt\n",
    "import numpy as np\n",
    "%matplotlib inline"
   ]
  },
  {
   "cell_type": "code",
   "execution_count": 25,
   "id": "871120d0",
   "metadata": {},
   "outputs": [
    {
     "name": "stderr",
     "output_type": "stream",
     "text": [
      "C:\\Users\\bhava\\anaconda3\\lib\\site-packages\\sklearn\\utils\\validation.py:63: DataConversionWarning: A column-vector y was passed when a 1d array was expected. Please change the shape of y to (n_samples, ), for example using ravel().\n",
      "  return f(*args, **kwargs)\n"
     ]
    },
    {
     "name": "stdout",
     "output_type": "stream",
     "text": [
      "      Iter       Train Loss   Remaining Time \n",
      "         1           0.3231           22.68m\n",
      "         2        1111.4913           22.50m\n",
      "         3        1111.4398           22.23m\n",
      "         4        1111.4398           22.13m\n",
      "         5        1111.4398           22.06m\n",
      "         6        1111.4398           21.99m\n",
      "         7        1111.4398           21.91m\n",
      "         8        1111.4398           21.78m\n",
      "         9        1111.4398           21.66m\n",
      "        10        1111.4398           21.55m\n",
      "        20        1111.4398           20.47m\n",
      "        30        1111.4398           19.33m\n",
      "        40        1111.4398           18.20m\n",
      "        50        1111.4398           17.07m\n",
      "        60        1111.4398           15.93m\n",
      "        70        1111.4398           14.79m\n",
      "        80        1111.4398           13.65m\n",
      "        90        1111.4398           12.55m\n",
      "       100        1111.4398           11.40m\n",
      "       200        1111.4398            0.00s\n"
     ]
    },
    {
     "data": {
      "text/plain": [
       "GradientBoostingClassifier(learning_rate=1, n_estimators=200, random_state=0,\n",
       "                           verbose=1)"
      ]
     },
     "execution_count": 25,
     "metadata": {},
     "output_type": "execute_result"
    }
   ],
   "source": [
    "#creating Gradient Boosting Model and feeding the data to the model to train and test itself\n",
    "from sklearn.ensemble import GradientBoostingClassifier\n",
    "model4 = GradientBoostingClassifier(n_estimators=200, max_depth=3, learning_rate=1, random_state=0, verbose = 1)\n",
    "model4.fit(X_train, y_train)"
   ]
  },
  {
   "cell_type": "code",
   "execution_count": 29,
   "id": "b9626672",
   "metadata": {},
   "outputs": [],
   "source": [
    "#generating and storing the predicted values\n",
    "pred4 = model4.predict(X_test)"
   ]
  },
  {
   "cell_type": "code",
   "execution_count": 30,
   "id": "18cd66c1",
   "metadata": {},
   "outputs": [
    {
     "data": {
      "image/png": "[encoded data removed]",
      "text/plain": [
       "<Figure size 432x288 with 1 Axes>"
      ]
     },
     "metadata": {
      "needs_background": "light"
     },
     "output_type": "display_data"
    }
   ],
   "source": [
    "#plotting the confusion matrix to evaluate the models performance\n",
    "class_names = ['not_fraud', 'fraud']\n",
    "matrix = confusion_matrix(y_test, pred4)\n",
    "# Create pandas dataframe\n",
    "dataframe = pd.DataFrame(matrix, index=class_names, columns=class_names)\n",
    "# Create heatmap\n",
    "sns.heatmap(dataframe, annot=True, cbar=None, cmap=\"Blues\", fmt = 'g')\n",
    "plt.title(\"Confusion Matrix\"), plt.tight_layout()\n",
    "plt.ylabel(\"True Class\"), plt.xlabel(\"Predicted Class\")\n",
    "plt.show()"
   ]
  },
  {
   "cell_type": "code",
   "execution_count": 31,
   "id": "cf2956e7",
   "metadata": {},
   "outputs": [
    {
     "name": "stdout",
     "output_type": "stream",
     "text": [
      "Sensitivity/Recall for Gradient Boosting  Model 4 : 0.67\n",
      "F1 Score for Gradient Boosting  Model 4 : 0.63\n",
      "Accuracy Score for Gradient Boosting  Model 4 :0.9987828142738434\n"
     ]
    }
   ],
   "source": [
    "#printing accuracy, F1 score and sensitivity/recall of the model\n",
    "from sklearn.metrics import f1_score, recall_score , accuracy_score\n",
    "f1_score = round(f1_score(y_test, pred4), 2)\n",
    "recall_score = round(recall_score(y_test, pred4), 2)\n",
    "print(\"Sensitivity/Recall for Gradient Boosting  Model 4 : {recall_score}\".format(recall_score = recall_score))\n",
    "print(\"F1 Score for Gradient Boosting  Model 4 : {f1_score}\".format(f1_score = f1_score))\n",
    "print(\"Accuracy Score for Gradient Boosting  Model 4 :\"+ str(accuracy_score(y_test,pred4)))"
   ]
  },
  {
   "cell_type": "code",
   "execution_count": null,
   "id": "b541593a",
   "metadata": {},
   "outputs": [],
   "source": []
  }
 ],
 "metadata": {
  "kernelspec": {
   "display_name": "Python 3 (ipykernel)",
   "language": "python",
   "name": "python3"
  },
  "language_info": {
   "codemirror_mode": {
    "name": "ipython",
    "version": 3
   },
   "file_extension": ".py",
   "mimetype": "text/x-python",
   "name": "python",
   "nbconvert_exporter": "python",
   "pygments_lexer": "ipython3",
   "version": "3.9.7"
  }
 },
 "nbformat": 4,
 "nbformat_minor": 5
}
